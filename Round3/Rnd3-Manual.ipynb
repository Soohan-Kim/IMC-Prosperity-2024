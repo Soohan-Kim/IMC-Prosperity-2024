{
 "cells": [
  {
   "cell_type": "code",
   "execution_count": 1,
   "id": "106d8080",
   "metadata": {},
   "outputs": [],
   "source": [
    "import numpy as np\n",
    "\n",
    "base = 7500\n",
    "cost2 = 25000\n",
    "cost3 = 75000\n",
    "\n",
    "multipliers = [\n",
    "    [24, 70, 41, 21, 60],\n",
    "    [47, 82, 87, 80, 35],\n",
    "    [73, 89, 100, 90, 17],\n",
    "    [77, 83, 85, 79, 55],\n",
    "    [12, 27, 52, 15, 30]\n",
    "]\n",
    "\n",
    "hunters = [\n",
    "    [2, 4, 3, 2, 4],\n",
    "    [3, 5, 5, 5, 3],\n",
    "    [4, 5, 8, 7, 2],\n",
    "    [5, 5, 5, 5, 4],\n",
    "    [2, 3, 4, 2, 3]\n",
    "]"
   ]
  },
  {
   "cell_type": "code",
   "execution_count": 3,
   "id": "6fc28221",
   "metadata": {},
   "outputs": [
    {
     "data": {
      "text/plain": [
       "array([[ 90000.        , 131250.        , 102500.        ,\n",
       "         78750.        , 112500.        ],\n",
       "       [117500.        , 123000.        , 130500.        ,\n",
       "        120000.        ,  87500.        ],\n",
       "       [136875.        , 133500.        ,  93750.        ,\n",
       "         96428.57142857,  63750.        ],\n",
       "       [115500.        , 124500.        , 127500.        ,\n",
       "        118500.        , 103125.        ],\n",
       "       [ 45000.        ,  67500.        ,  97500.        ,\n",
       "         56250.        ,  75000.        ]])"
      ]
     },
     "execution_count": 3,
     "metadata": {},
     "output_type": "execute_result"
    }
   ],
   "source": [
    "m = np.array(multipliers)\n",
    "h = np.array(hunters)\n",
    "\n",
    "n = m/h*7500\n",
    "n"
   ]
  },
  {
   "cell_type": "code",
   "execution_count": 4,
   "id": "42a1ee03",
   "metadata": {},
   "outputs": [
    {
     "data": {
      "text/plain": [
       "array([[0.01352142, 0.08568094, 0.05396298, 0.04760939, 0.08576698],\n",
       "       [0.04605063, 0.01017002, 0.00514421, 0.00094563, 0.05441222],\n",
       "       [0.02923959, 0.01403158, 0.01017458, 0.01964093, 0.04458477],\n",
       "       [0.06782672, 0.05348164, 0.03566316, 0.05765842, 0.05261312],\n",
       "       [0.01246728, 0.07439307, 0.00503699, 0.06373837, 0.05618533]])"
      ]
     },
     "execution_count": 4,
     "metadata": {},
     "output_type": "execute_result"
    }
   ],
   "source": [
    "basis_pcts = np.random.rand(5, 5)\n",
    "basis_pcts /= basis_pcts.sum()\n",
    "basis_pcts"
   ]
  },
  {
   "cell_type": "code",
   "execution_count": 5,
   "id": "7e59f21d",
   "metadata": {},
   "outputs": [
    {
     "data": {
      "text/plain": [
       "1.0000000000000002"
      ]
     },
     "execution_count": 5,
     "metadata": {},
     "output_type": "execute_result"
    }
   ],
   "source": [
    "basis_pcts.sum()"
   ]
  },
  {
   "cell_type": "code",
   "execution_count": 7,
   "id": "cd5c6473",
   "metadata": {},
   "outputs": [
    {
     "data": {
      "text/plain": [
       "array([[ 53697.00487295,  41772.44263   ,  36623.28267325,\n",
       "         23295.58008681,  35780.4558318 ],\n",
       "       [ 46350.69822135, 102210.37206145, 118326.10206078,\n",
       "        117772.61905758,  31097.39280727],\n",
       "       [ 79073.25902789, 104245.43805054,  83171.99569956,\n",
       "         75300.42674157,  19741.49546769],\n",
       "       [ 49012.65012303,  60155.59966753,  74419.38454699,\n",
       "         55035.17464007,  44540.12520709],\n",
       "       [ 27720.21334029,  19397.83948501,  86595.4792221 ,\n",
       "         13434.70141578,  26106.53226084]])"
      ]
     },
     "execution_count": 7,
     "metadata": {},
     "output_type": "execute_result"
    }
   ],
   "source": [
    "m/(h+100*basis_pcts)*7500"
   ]
  },
  {
   "cell_type": "code",
   "execution_count": 13,
   "id": "67dbd8d7",
   "metadata": {},
   "outputs": [
    {
     "name": "stderr",
     "output_type": "stream",
     "text": [
      "100%|█████████████████████████████████████████████████████████████████████| 1000000/1000000 [00:45<00:00, 21780.72it/s]\n"
     ]
    },
    {
     "data": {
      "text/plain": [
       "array([[36108.883, 71992.164, 49810.664, 31585.602, 61720.31 ],\n",
       "       [57098.188, 73352.5  , 77822.82 , 71627.62 , 42541.434],\n",
       "       [75110.33 , 79687.66 , 64950.7  , 64263.07 , 25561.229],\n",
       "       [68904.6  , 74274.914, 76069.586, 70672.58 , 56565.836],\n",
       "       [18050.13 , 32834.8  , 53460.168, 22561.695, 36479.58 ]],\n",
       "      dtype=float32)"
      ]
     },
     "execution_count": 13,
     "metadata": {},
     "output_type": "execute_result"
    }
   ],
   "source": [
    "from tqdm import tqdm\n",
    "\n",
    "res = np.zeros_like(m).astype(np.float32)\n",
    "for _ in tqdm(range(1000000)):\n",
    "    cur_probs = np.random.rand(5,5)\n",
    "    cur_probs /= cur_probs.sum()\n",
    "    res += m/(h+100*cur_probs)*7500\n",
    "res /= 1000000\n",
    "res"
   ]
  },
  {
   "cell_type": "code",
   "execution_count": 11,
   "id": "5a2e6a19",
   "metadata": {},
   "outputs": [
    {
     "data": {
      "text/plain": [
       "array([[0.04, 0.04, 0.04, 0.04, 0.04],\n",
       "       [0.04, 0.04, 0.04, 0.04, 0.04],\n",
       "       [0.04, 0.04, 0.04, 0.04, 0.04],\n",
       "       [0.04, 0.04, 0.04, 0.04, 0.04],\n",
       "       [0.04, 0.04, 0.04, 0.04, 0.04]])"
      ]
     },
     "execution_count": 11,
     "metadata": {},
     "output_type": "execute_result"
    }
   ],
   "source": [
    "equalprobs = np.array([[1/25]*5]*5)\n",
    "equalprobs"
   ]
  },
  {
   "cell_type": "code",
   "execution_count": 12,
   "id": "47cae9ff",
   "metadata": {},
   "outputs": [
    {
     "data": {
      "text/plain": [
       "array([[30000.        , 65625.        , 43928.57142857, 26250.        ,\n",
       "        56250.        ],\n",
       "       [50357.14285714, 68333.33333333, 72500.        , 66666.66666667,\n",
       "        37500.        ],\n",
       "       [68437.5       , 74166.66666667, 62500.        , 61363.63636364,\n",
       "        21250.        ],\n",
       "       [64166.66666667, 69166.66666667, 70833.33333333, 65833.33333333,\n",
       "        51562.5       ],\n",
       "       [15000.        , 28928.57142857, 48750.        , 18750.        ,\n",
       "        32142.85714286]])"
      ]
     },
     "execution_count": 12,
     "metadata": {},
     "output_type": "execute_result"
    }
   ],
   "source": [
    "m/(h+equalprobs*100)*7500"
   ]
  },
  {
   "cell_type": "code",
   "execution_count": null,
   "id": "c16b6159",
   "metadata": {},
   "outputs": [],
   "source": []
  }
 ],
 "metadata": {
  "kernelspec": {
   "display_name": "Python 3 (ipykernel)",
   "language": "python",
   "name": "python3"
  },
  "language_info": {
   "codemirror_mode": {
    "name": "ipython",
    "version": 3
   },
   "file_extension": ".py",
   "mimetype": "text/x-python",
   "name": "python",
   "nbconvert_exporter": "python",
   "pygments_lexer": "ipython3",
   "version": "3.11.4"
  }
 },
 "nbformat": 4,
 "nbformat_minor": 5
}
