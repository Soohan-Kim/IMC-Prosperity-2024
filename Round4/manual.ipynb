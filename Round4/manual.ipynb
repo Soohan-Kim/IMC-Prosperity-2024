{
 "cells": [
  {
   "cell_type": "code",
   "execution_count": 3,
   "id": "6ce84829",
   "metadata": {},
   "outputs": [],
   "source": [
    "import numpy as np\n",
    "from scipy.optimize import minimize\n",
    "\n",
    "# For lowest bid\n",
    "def obj_func(x):\n",
    "    \n",
    "    return -(1/100)*x*x*(100-x) \n",
    "             \n",
    "init_guess = np.array([50])\n",
    "#constraints = ({'type': 'ineq', 'fun': lambda x: x[1] - x[0]}) \n",
    "bounds = tuple((0, 100) for _ in range(1))\n",
    "\n",
    "res = minimize(obj_func, init_guess, bounds=bounds)"
   ]
  },
  {
   "cell_type": "code",
   "execution_count": 4,
   "id": "1ec558f5",
   "metadata": {},
   "outputs": [
    {
     "data": {
      "text/plain": [
       "array([966.66668165])"
      ]
     },
     "execution_count": 4,
     "metadata": {},
     "output_type": "execute_result"
    }
   ],
   "source": [
    "res.x + 900"
   ]
  },
  {
   "cell_type": "code",
   "execution_count": null,
   "id": "093a576a",
   "metadata": {},
   "outputs": [],
   "source": []
  }
 ],
 "metadata": {
  "kernelspec": {
   "display_name": "Python 3 (ipykernel)",
   "language": "python",
   "name": "python3"
  },
  "language_info": {
   "codemirror_mode": {
    "name": "ipython",
    "version": 3
   },
   "file_extension": ".py",
   "mimetype": "text/x-python",
   "name": "python",
   "nbconvert_exporter": "python",
   "pygments_lexer": "ipython3",
   "version": "3.11.4"
  }
 },
 "nbformat": 4,
 "nbformat_minor": 5
}
