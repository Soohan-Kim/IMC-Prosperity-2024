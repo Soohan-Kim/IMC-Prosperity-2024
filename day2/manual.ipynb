{
 "cells": [
  {
   "cell_type": "code",
   "execution_count": 1,
   "metadata": {},
   "outputs": [],
   "source": [
    "price_tb = {\n",
    "    'pz': {\n",
    "        'pz': 1, 'wr': 0.48, 'sb': 1.52, 'sh': 0.71\n",
    "    },\n",
    "    'wr': {\n",
    "        'pz': 2.05, 'wr': 1, 'sb': 3.26, 'sh': 1.56\n",
    "    },\n",
    "    'sb': {\n",
    "        'pz': 0.64, 'wr': 0.3, 'sb': 1, 'sh': 0.46\n",
    "    },\n",
    "    'sh': {\n",
    "        'pz': 1.41, 'wr': 0.61, 'sb': 2.08, 'sh': 1\n",
    "    }\n",
    "}"
   ]
  },
  {
   "cell_type": "code",
   "execution_count": null,
   "metadata": {},
   "outputs": [],
   "source": [
    "res = []"
   ]
  },
  {
   "cell_type": "code",
   "execution_count": 2,
   "metadata": {},
   "outputs": [],
   "source": [
    "def dfs(curr, hist, cap):\n",
    "    if len(hist) == 6:\n",
    "        if curr == 'sh':\n",
    "            res.append((hist, cap))\n",
    "        return\n",
    "    \n",
    "    for next in price_tb.keys():\n",
    "        hist.append(next)\n",
    "        next_cap = cap * price_tb[curr][next]\n",
    "        dfs(next, hist, next_cap)\n",
    "        hist.pop()"
   ]
  },
  {
   "cell_type": "code",
   "execution_count": null,
   "metadata": {},
   "outputs": [],
   "source": [
    "dfs('sh', ['sh'], )"
   ]
  }
 ],
 "metadata": {
  "kernelspec": {
   "display_name": "blank",
   "language": "python",
   "name": "python3"
  },
  "language_info": {
   "codemirror_mode": {
    "name": "ipython",
    "version": 3
   },
   "file_extension": ".py",
   "mimetype": "text/x-python",
   "name": "python",
   "nbconvert_exporter": "python",
   "pygments_lexer": "ipython3",
   "version": "3.12.1"
  }
 },
 "nbformat": 4,
 "nbformat_minor": 2
}
