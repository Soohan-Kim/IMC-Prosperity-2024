{
 "cells": [
  {
   "cell_type": "code",
   "execution_count": 14,
   "id": "40236001",
   "metadata": {},
   "outputs": [
    {
     "data": {
      "text/plain": [
       "[0, 1, 3, 0]"
      ]
     },
     "execution_count": 14,
     "metadata": {},
     "output_type": "execute_result"
    }
   ],
   "source": [
    "rates = [\n",
    "    [1, 0.48, 1.52, 0.71],\n",
    "    [2.05, 1, 3.26, 1.56],\n",
    "    [0.64, 0.3, 1, 0.46],\n",
    "    [1.41, 0.61, 2.08, 1]\n",
    "]\n",
    "\n",
    "capital = 2000\n",
    "\n",
    "cur_path = []\n",
    "\n",
    "profit = 0\n",
    "max_profit = profit\n",
    "for i in range(3):\n",
    "    li = [0, 1, 2, 3]\n",
    "    li.remove(i)\n",
    "    for j in li:\n",
    "        li = [0, 1, 2, 3]\n",
    "        li.remove(j)\n",
    "        for k in li:\n",
    "            li = [0, 1, 2, 3]\n",
    "            li.remove(k)\n",
    "            for l in li:\n",
    "                \n",
    "                cur_capital = capital*rates[-1][i]*rates[i][j]*rates[j][k]*rates[k][l]*rates[l][-1]\n",
    "                    \n",
    "                profit = cur_capital-capital\n",
    "                if profit > max_profit:\n",
    "                    cur_path = [i, j, k, l]\n",
    "                    max_profit = profit\n",
    "                    \n",
    "                \n",
    "cur_path"
   ]
  },
  {
   "cell_type": "code",
   "execution_count": 15,
   "id": "7e902057",
   "metadata": {},
   "outputs": [
    {
     "data": {
      "text/plain": [
       "113.93877759999987"
      ]
     },
     "execution_count": 15,
     "metadata": {},
     "output_type": "execute_result"
    }
   ],
   "source": [
    "max_profit"
   ]
  },
  {
   "cell_type": "code",
   "execution_count": 16,
   "id": "ed9de3cd",
   "metadata": {},
   "outputs": [
    {
     "data": {
      "text/plain": [
       "[]"
      ]
     },
     "execution_count": 16,
     "metadata": {},
     "output_type": "execute_result"
    }
   ],
   "source": [
    "cur_path = []\n",
    "\n",
    "profit = 0\n",
    "#max_profit = profit\n",
    "for i in range(3):\n",
    "    li = [0, 1, 2, 3]\n",
    "    li.remove(i)\n",
    "    for j in li:\n",
    "        li = [0, 1, 2, 3]\n",
    "        li.remove(j)\n",
    "        for k in li:\n",
    "                \n",
    "            cur_capital = capital*rates[-1][i]*rates[i][j]*rates[j][k]*rates[k][-1]\n",
    "\n",
    "            profit = cur_capital-capital\n",
    "            if profit > max_profit:\n",
    "                cur_path = [i, j, k]\n",
    "                max_profit = profit\n",
    "cur_path"
   ]
  },
  {
   "cell_type": "code",
   "execution_count": 17,
   "id": "b87ed225",
   "metadata": {},
   "outputs": [
    {
     "data": {
      "text/plain": [
       "113.93877759999987"
      ]
     },
     "execution_count": 17,
     "metadata": {},
     "output_type": "execute_result"
    }
   ],
   "source": [
    "max_profit"
   ]
  },
  {
   "cell_type": "code",
   "execution_count": null,
   "id": "d4026995",
   "metadata": {},
   "outputs": [],
   "source": []
  }
 ],
 "metadata": {
  "kernelspec": {
   "display_name": "Python 3 (ipykernel)",
   "language": "python",
   "name": "python3"
  },
  "language_info": {
   "codemirror_mode": {
    "name": "ipython",
    "version": 3
   },
   "file_extension": ".py",
   "mimetype": "text/x-python",
   "name": "python",
   "nbconvert_exporter": "python",
   "pygments_lexer": "ipython3",
   "version": "3.11.4"
  }
 },
 "nbformat": 4,
 "nbformat_minor": 5
}
